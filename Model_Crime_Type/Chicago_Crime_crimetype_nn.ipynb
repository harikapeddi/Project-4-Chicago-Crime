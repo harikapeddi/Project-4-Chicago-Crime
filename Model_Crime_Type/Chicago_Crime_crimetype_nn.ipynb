{
 "cells": [
  {
   "cell_type": "markdown",
   "metadata": {
    "colab_type": "text",
    "id": "view-in-github"
   },
   "source": [
    "<a href=\"https://colab.research.google.com/github/Karla-Flores/Project-04/blob/main/Model/Chicago_Crime_crimetype_nn.ipynb\" target=\"_parent\"><img src=\"https://colab.research.google.com/assets/colab-badge.svg\" alt=\"Open In Colab\"/></a>"
   ]
  },
  {
   "cell_type": "markdown",
   "metadata": {
    "id": "jZN5JUejZM9Z"
   },
   "source": [
    "\n",
    "# **Preprocessing**"
   ]
  },
  {
   "cell_type": "code",
   "execution_count": 6,
   "metadata": {
    "id": "-f8wn-tjZi4F"
   },
   "outputs": [],
   "source": [
    "# Import our dependencies\n",
    "from sklearn.model_selection import train_test_split\n",
    "from sklearn.preprocessing import StandardScaler\n",
    "from sklearn.linear_model import LogisticRegression\n",
    "from sklearn.metrics import classification_report\n",
    "from sklearn.linear_model import SGDClassifier\n",
    "import tensorflow as tf\n",
    "import matplotlib.pyplot as plt\n",
    "import pandas as pd\n",
    "import numpy as np"
   ]
  },
  {
   "cell_type": "code",
   "execution_count": 2,
   "metadata": {
    "colab": {
     "base_uri": "https://localhost:8080/",
     "height": 73,
     "resources": {
      "http://localhost:8080/nbextensions/google.colab/files.js": {
       "data": "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",
       "headers": [
        [
         "content-type",
         "application/javascript"
        ]
       ],
       "ok": true,
       "status": 200,
       "status_text": ""
      }
     }
    },
    "id": "HCIujZqZBtp6",
    "outputId": "ddc284ef-a251-4640-e380-cfe39489ba1a"
   },
   "outputs": [
    {
     "data": {
      "text/html": [
       "\n",
       "     <input type=\"file\" id=\"files-5c39661e-1fc9-498c-a0c5-a74ae1fb78e4\" name=\"files[]\" multiple disabled\n",
       "        style=\"border:none\" />\n",
       "     <output id=\"result-5c39661e-1fc9-498c-a0c5-a74ae1fb78e4\">\n",
       "      Upload widget is only available when the cell has been executed in the\n",
       "      current browser session. Please rerun this cell to enable.\n",
       "      </output>\n",
       "      <script src=\"/nbextensions/google.colab/files.js\"></script> "
      ],
      "text/plain": [
       "<IPython.core.display.HTML object>"
      ]
     },
     "metadata": {},
     "output_type": "display_data"
    },
    {
     "name": "stdout",
     "output_type": "stream",
     "text": [
      "Saving chicago_crime_db.csv to chicago_crime_db.csv\n"
     ]
    }
   ],
   "source": [
    "from google.colab import files\n",
    "uploaded = files.upload()"
   ]
  },
  {
   "cell_type": "code",
   "execution_count": 39,
   "metadata": {
    "colab": {
     "base_uri": "https://localhost:8080/",
     "height": 363
    },
    "id": "8QnexXhTgVUT",
    "outputId": "5e1327f8-498a-41d2-c6b9-cbe572e9f24c"
   },
   "outputs": [
    {
     "data": {
      "text/html": [
       "<div>\n",
       "<style scoped>\n",
       "    .dataframe tbody tr th:only-of-type {\n",
       "        vertical-align: middle;\n",
       "    }\n",
       "\n",
       "    .dataframe tbody tr th {\n",
       "        vertical-align: top;\n",
       "    }\n",
       "\n",
       "    .dataframe thead th {\n",
       "        text-align: right;\n",
       "    }\n",
       "</style>\n",
       "<table border=\"1\" class=\"dataframe\">\n",
       "  <thead>\n",
       "    <tr style=\"text-align: right;\">\n",
       "      <th></th>\n",
       "      <th>Primary Type</th>\n",
       "      <th>Arrest</th>\n",
       "      <th>Domestic</th>\n",
       "      <th>Latitude</th>\n",
       "      <th>Longitude</th>\n",
       "      <th>Location Description</th>\n",
       "      <th>HOUR</th>\n",
       "      <th>SEASON</th>\n",
       "    </tr>\n",
       "  </thead>\n",
       "  <tbody>\n",
       "    <tr>\n",
       "      <th>0</th>\n",
       "      <td>BATTERY</td>\n",
       "      <td>False</td>\n",
       "      <td>True</td>\n",
       "      <td>41.815117</td>\n",
       "      <td>-87.670000</td>\n",
       "      <td>RESIDENCE</td>\n",
       "      <td>Afternoon</td>\n",
       "      <td>Autumn</td>\n",
       "    </tr>\n",
       "    <tr>\n",
       "      <th>1</th>\n",
       "      <td>THEFT</td>\n",
       "      <td>False</td>\n",
       "      <td>False</td>\n",
       "      <td>41.895080</td>\n",
       "      <td>-87.765400</td>\n",
       "      <td>CTA</td>\n",
       "      <td>Morning</td>\n",
       "      <td>Autumn</td>\n",
       "    </tr>\n",
       "    <tr>\n",
       "      <th>2</th>\n",
       "      <td>NARCOTICS</td>\n",
       "      <td>True</td>\n",
       "      <td>False</td>\n",
       "      <td>41.937406</td>\n",
       "      <td>-87.716650</td>\n",
       "      <td>PUBLIC OPEN SPACE</td>\n",
       "      <td>Afternoon</td>\n",
       "      <td>Autumn</td>\n",
       "    </tr>\n",
       "    <tr>\n",
       "      <th>3</th>\n",
       "      <td>ASSAULT</td>\n",
       "      <td>False</td>\n",
       "      <td>True</td>\n",
       "      <td>41.881903</td>\n",
       "      <td>-87.755121</td>\n",
       "      <td>RESIDENCE</td>\n",
       "      <td>Afternoon</td>\n",
       "      <td>Autumn</td>\n",
       "    </tr>\n",
       "    <tr>\n",
       "      <th>4</th>\n",
       "      <td>BURGLARY</td>\n",
       "      <td>False</td>\n",
       "      <td>False</td>\n",
       "      <td>41.744379</td>\n",
       "      <td>-87.658431</td>\n",
       "      <td>RESIDENCE</td>\n",
       "      <td>Morning</td>\n",
       "      <td>Autumn</td>\n",
       "    </tr>\n",
       "    <tr>\n",
       "      <th>5</th>\n",
       "      <td>BURGLARY</td>\n",
       "      <td>False</td>\n",
       "      <td>False</td>\n",
       "      <td>41.914636</td>\n",
       "      <td>-87.681631</td>\n",
       "      <td>RESIDENCE</td>\n",
       "      <td>Evening</td>\n",
       "      <td>Autumn</td>\n",
       "    </tr>\n",
       "    <tr>\n",
       "      <th>6</th>\n",
       "      <td>THEFT</td>\n",
       "      <td>True</td>\n",
       "      <td>False</td>\n",
       "      <td>41.851989</td>\n",
       "      <td>-87.689219</td>\n",
       "      <td>COMMERCIAL BUILDING</td>\n",
       "      <td>Afternoon</td>\n",
       "      <td>Autumn</td>\n",
       "    </tr>\n",
       "    <tr>\n",
       "      <th>7</th>\n",
       "      <td>ROBBERY</td>\n",
       "      <td>False</td>\n",
       "      <td>True</td>\n",
       "      <td>41.882814</td>\n",
       "      <td>-87.704326</td>\n",
       "      <td>PUBLIC OPEN SPACE</td>\n",
       "      <td>Morning</td>\n",
       "      <td>Autumn</td>\n",
       "    </tr>\n",
       "    <tr>\n",
       "      <th>8</th>\n",
       "      <td>THEFT</td>\n",
       "      <td>False</td>\n",
       "      <td>False</td>\n",
       "      <td>41.763648</td>\n",
       "      <td>-87.722345</td>\n",
       "      <td>PUBLIC OPEN SPACE</td>\n",
       "      <td>Afternoon</td>\n",
       "      <td>Autumn</td>\n",
       "    </tr>\n",
       "    <tr>\n",
       "      <th>9</th>\n",
       "      <td>BATTERY</td>\n",
       "      <td>False</td>\n",
       "      <td>False</td>\n",
       "      <td>41.975968</td>\n",
       "      <td>-87.768014</td>\n",
       "      <td>COMMERCIAL BUILDING</td>\n",
       "      <td>Morning</td>\n",
       "      <td>Autumn</td>\n",
       "    </tr>\n",
       "  </tbody>\n",
       "</table>\n",
       "</div>"
      ],
      "text/plain": [
       "  Primary Type  Arrest  Domestic  ...  Location Description       HOUR  SEASON\n",
       "0      BATTERY   False      True  ...             RESIDENCE  Afternoon  Autumn\n",
       "1        THEFT   False     False  ...                   CTA    Morning  Autumn\n",
       "2    NARCOTICS    True     False  ...     PUBLIC OPEN SPACE  Afternoon  Autumn\n",
       "3      ASSAULT   False      True  ...             RESIDENCE  Afternoon  Autumn\n",
       "4     BURGLARY   False     False  ...             RESIDENCE    Morning  Autumn\n",
       "5     BURGLARY   False     False  ...             RESIDENCE    Evening  Autumn\n",
       "6        THEFT    True     False  ...   COMMERCIAL BUILDING  Afternoon  Autumn\n",
       "7      ROBBERY   False      True  ...     PUBLIC OPEN SPACE    Morning  Autumn\n",
       "8        THEFT   False     False  ...     PUBLIC OPEN SPACE  Afternoon  Autumn\n",
       "9      BATTERY   False     False  ...   COMMERCIAL BUILDING    Morning  Autumn\n",
       "\n",
       "[10 rows x 8 columns]"
      ]
     },
     "execution_count": 39,
     "metadata": {},
     "output_type": "execute_result"
    }
   ],
   "source": [
    "# Uploading ETL file\n",
    "data = pd.read_csv('chicago_crime_db.csv')\n",
    "data.head(10)"
   ]
  },
  {
   "cell_type": "code",
   "execution_count": 40,
   "metadata": {
    "colab": {
     "base_uri": "https://localhost:8080/"
    },
    "id": "rerCM_PkBHUK",
    "outputId": "28ce1eb3-97bb-4672-b834-af30792ad36e"
   },
   "outputs": [
    {
     "data": {
      "text/plain": [
       "(6691918, 8)"
      ]
     },
     "execution_count": 40,
     "metadata": {},
     "output_type": "execute_result"
    }
   ],
   "source": [
    "data.shape"
   ]
  },
  {
   "cell_type": "code",
   "execution_count": 41,
   "metadata": {
    "id": "xKjxwCiuBHUL"
   },
   "outputs": [],
   "source": [
    "data.loc[data['Primary Type'] == 'CRIMINAL DAMAGE', 'Primary Type'] = 'CRIMINAL LAW VIOLATION'\n",
    "data.loc[data['Primary Type'] == 'CRIMINAL TRESPASS', 'Primary Type'] = 'CRIMINAL LAW VIOLATION'\n",
    "data.loc[data['Primary Type'] == 'DECEPTIVE PRACTICE', 'Primary Type'] = 'CRIMINAL LAW VIOLATION'\n",
    "data.loc[data['Primary Type'] == 'INTERFERENCE WITH PUBLIC OFFICER', 'Primary Type'] = 'CRIMINAL LAW VIOLATION'\n",
    "data.loc[data['Primary Type'] == 'LIQUOR LAW VIOLATION', 'Primary Type'] = 'CRIMINAL LAW VIOLATION'\n",
    "data.loc[data['Primary Type'] == 'PUBLIC PEACE VIOLATION', 'Primary Type'] = 'CRIMINAL LAW VIOLATION'\n",
    "data.loc[data['Primary Type'] == 'WEAPONS VIOLATION', 'Primary Type'] = 'CRIMINAL LAW VIOLATION'\n",
    "data.loc[data['Primary Type'] == 'GAMBLING', 'Primary Type'] = 'CRIMINAL LAW VIOLATION'"
   ]
  },
  {
   "cell_type": "code",
   "execution_count": 42,
   "metadata": {
    "id": "-3vsnLicBHUL"
   },
   "outputs": [],
   "source": [
    "data.loc[data['Primary Type'] == 'OTHER OFFENSE', 'Primary Type'] = 'OTHER'"
   ]
  },
  {
   "cell_type": "code",
   "execution_count": 43,
   "metadata": {
    "id": "bJhQ3d0tBHUM"
   },
   "outputs": [],
   "source": [
    "data.loc[data['Primary Type'] == 'BATTERY', 'Primary Type'] = 'ASSAULT'"
   ]
  },
  {
   "cell_type": "code",
   "execution_count": 44,
   "metadata": {
    "id": "d4zHPLj4BHUN"
   },
   "outputs": [],
   "source": [
    "data.loc[data['Primary Type'] == 'STALKING', 'Primary Type'] = 'INTIMIDATION'"
   ]
  },
  {
   "cell_type": "code",
   "execution_count": 45,
   "metadata": {
    "id": "VHxlJfB1BHUO"
   },
   "outputs": [],
   "source": [
    "data.loc[data['Primary Type'] == 'BURGLARY', 'Primary Type'] = 'ROBBERY'\n",
    "data.loc[data['Primary Type'] == 'MOTOR VEHICLE THEFT', 'Primary Type'] = 'ROBBERY'\n",
    "data.loc[data['Primary Type'] == 'THEFT', 'Primary Type'] = 'ROBBERY'"
   ]
  },
  {
   "cell_type": "code",
   "execution_count": 46,
   "metadata": {
    "id": "AHF2_zZBBHUP"
   },
   "outputs": [],
   "source": [
    "data.loc[data['Primary Type'] == 'CRIM SEXUAL ASSAULT', 'Primary Type'] = 'SEX OFFENSE'\n",
    "data.loc[data['Primary Type'] == 'CRIMINAL SEXUAL ASSAUL', 'Primary Type'] = 'SEX OFFENSE'\n",
    "data.loc[data['Primary Type'] == 'PROSTITUTION', 'Primary Type'] = 'SEX OFFENSE'"
   ]
  },
  {
   "cell_type": "code",
   "execution_count": 47,
   "metadata": {
    "id": "kVH6v5QRK8ZE"
   },
   "outputs": [],
   "source": [
    "# sample = data.sample(frac=0.05)"
   ]
  },
  {
   "cell_type": "code",
   "execution_count": 48,
   "metadata": {
    "colab": {
     "base_uri": "https://localhost:8080/"
    },
    "id": "-tuExt6ULIhn",
    "outputId": "d3630653-3b13-4a1b-f194-dd669aa30861"
   },
   "outputs": [
    {
     "data": {
      "text/plain": [
       "(334596, 8)"
      ]
     },
     "execution_count": 48,
     "metadata": {},
     "output_type": "execute_result"
    }
   ],
   "source": [
    "sample.shape"
   ]
  },
  {
   "cell_type": "code",
   "execution_count": 49,
   "metadata": {
    "colab": {
     "base_uri": "https://localhost:8080/",
     "height": 365
    },
    "id": "u50FzJxfrX4_",
    "outputId": "7548e377-8010-49f1-9ca3-adab5f53d790"
   },
   "outputs": [
    {
     "data": {
      "text/html": [
       "<div>\n",
       "<style scoped>\n",
       "    .dataframe tbody tr th:only-of-type {\n",
       "        vertical-align: middle;\n",
       "    }\n",
       "\n",
       "    .dataframe tbody tr th {\n",
       "        vertical-align: top;\n",
       "    }\n",
       "\n",
       "    .dataframe thead th {\n",
       "        text-align: right;\n",
       "    }\n",
       "</style>\n",
       "<table border=\"1\" class=\"dataframe\">\n",
       "  <thead>\n",
       "    <tr style=\"text-align: right;\">\n",
       "      <th></th>\n",
       "      <th>Primary Type</th>\n",
       "      <th>Arrest</th>\n",
       "      <th>Domestic</th>\n",
       "      <th>Latitude</th>\n",
       "      <th>Longitude</th>\n",
       "      <th>Location Description_AIRPORT</th>\n",
       "      <th>Location Description_CHURCH</th>\n",
       "      <th>Location Description_COMMERCIAL BUILDING</th>\n",
       "      <th>Location Description_CTA</th>\n",
       "      <th>Location Description_EDUCATIONAL BUILDING</th>\n",
       "      <th>Location Description_FEDERAL PROPERTY</th>\n",
       "      <th>Location Description_HOSPITAL</th>\n",
       "      <th>Location Description_HOTEL</th>\n",
       "      <th>Location Description_OTHER</th>\n",
       "      <th>Location Description_PUBLIC ENTERTAINMENT</th>\n",
       "      <th>Location Description_PUBLIC OPEN SPACE</th>\n",
       "      <th>Location Description_RESIDENCE</th>\n",
       "      <th>Location Description_VEHICLE</th>\n",
       "      <th>HOUR_Afternoon</th>\n",
       "      <th>HOUR_Evening</th>\n",
       "      <th>HOUR_Morning</th>\n",
       "      <th>HOUR_Night</th>\n",
       "      <th>SEASON_Autumn</th>\n",
       "      <th>SEASON_Spring</th>\n",
       "      <th>SEASON_Summer</th>\n",
       "      <th>SEASON_Winter</th>\n",
       "    </tr>\n",
       "  </thead>\n",
       "  <tbody>\n",
       "    <tr>\n",
       "      <th>1260212</th>\n",
       "      <td>ASSAULT</td>\n",
       "      <td>False</td>\n",
       "      <td>True</td>\n",
       "      <td>41.773427</td>\n",
       "      <td>-87.621507</td>\n",
       "      <td>0.0</td>\n",
       "      <td>0.0</td>\n",
       "      <td>0.0</td>\n",
       "      <td>0.0</td>\n",
       "      <td>0.0</td>\n",
       "      <td>0.0</td>\n",
       "      <td>0.0</td>\n",
       "      <td>0.0</td>\n",
       "      <td>0.0</td>\n",
       "      <td>0.0</td>\n",
       "      <td>0.0</td>\n",
       "      <td>1.0</td>\n",
       "      <td>0.0</td>\n",
       "      <td>0.0</td>\n",
       "      <td>0.0</td>\n",
       "      <td>0.0</td>\n",
       "      <td>1.0</td>\n",
       "      <td>1.0</td>\n",
       "      <td>0.0</td>\n",
       "      <td>0.0</td>\n",
       "      <td>0.0</td>\n",
       "    </tr>\n",
       "    <tr>\n",
       "      <th>5048895</th>\n",
       "      <td>CRIMINAL LAW VIOLATION</td>\n",
       "      <td>True</td>\n",
       "      <td>False</td>\n",
       "      <td>41.704335</td>\n",
       "      <td>-87.631113</td>\n",
       "      <td>0.0</td>\n",
       "      <td>0.0</td>\n",
       "      <td>0.0</td>\n",
       "      <td>0.0</td>\n",
       "      <td>0.0</td>\n",
       "      <td>0.0</td>\n",
       "      <td>0.0</td>\n",
       "      <td>0.0</td>\n",
       "      <td>0.0</td>\n",
       "      <td>0.0</td>\n",
       "      <td>1.0</td>\n",
       "      <td>0.0</td>\n",
       "      <td>0.0</td>\n",
       "      <td>0.0</td>\n",
       "      <td>0.0</td>\n",
       "      <td>1.0</td>\n",
       "      <td>0.0</td>\n",
       "      <td>0.0</td>\n",
       "      <td>0.0</td>\n",
       "      <td>1.0</td>\n",
       "      <td>0.0</td>\n",
       "    </tr>\n",
       "    <tr>\n",
       "      <th>2609753</th>\n",
       "      <td>NARCOTICS</td>\n",
       "      <td>True</td>\n",
       "      <td>False</td>\n",
       "      <td>41.916074</td>\n",
       "      <td>-87.713497</td>\n",
       "      <td>0.0</td>\n",
       "      <td>0.0</td>\n",
       "      <td>0.0</td>\n",
       "      <td>0.0</td>\n",
       "      <td>0.0</td>\n",
       "      <td>0.0</td>\n",
       "      <td>0.0</td>\n",
       "      <td>0.0</td>\n",
       "      <td>0.0</td>\n",
       "      <td>0.0</td>\n",
       "      <td>1.0</td>\n",
       "      <td>0.0</td>\n",
       "      <td>0.0</td>\n",
       "      <td>1.0</td>\n",
       "      <td>0.0</td>\n",
       "      <td>0.0</td>\n",
       "      <td>0.0</td>\n",
       "      <td>0.0</td>\n",
       "      <td>0.0</td>\n",
       "      <td>1.0</td>\n",
       "      <td>0.0</td>\n",
       "    </tr>\n",
       "    <tr>\n",
       "      <th>415579</th>\n",
       "      <td>CRIMINAL LAW VIOLATION</td>\n",
       "      <td>False</td>\n",
       "      <td>False</td>\n",
       "      <td>41.922583</td>\n",
       "      <td>-87.638650</td>\n",
       "      <td>0.0</td>\n",
       "      <td>0.0</td>\n",
       "      <td>1.0</td>\n",
       "      <td>0.0</td>\n",
       "      <td>0.0</td>\n",
       "      <td>0.0</td>\n",
       "      <td>0.0</td>\n",
       "      <td>0.0</td>\n",
       "      <td>0.0</td>\n",
       "      <td>0.0</td>\n",
       "      <td>0.0</td>\n",
       "      <td>0.0</td>\n",
       "      <td>0.0</td>\n",
       "      <td>0.0</td>\n",
       "      <td>0.0</td>\n",
       "      <td>0.0</td>\n",
       "      <td>1.0</td>\n",
       "      <td>0.0</td>\n",
       "      <td>0.0</td>\n",
       "      <td>0.0</td>\n",
       "      <td>1.0</td>\n",
       "    </tr>\n",
       "    <tr>\n",
       "      <th>2642932</th>\n",
       "      <td>CRIMINAL LAW VIOLATION</td>\n",
       "      <td>False</td>\n",
       "      <td>False</td>\n",
       "      <td>41.880587</td>\n",
       "      <td>-87.706110</td>\n",
       "      <td>0.0</td>\n",
       "      <td>0.0</td>\n",
       "      <td>0.0</td>\n",
       "      <td>0.0</td>\n",
       "      <td>0.0</td>\n",
       "      <td>0.0</td>\n",
       "      <td>0.0</td>\n",
       "      <td>0.0</td>\n",
       "      <td>0.0</td>\n",
       "      <td>0.0</td>\n",
       "      <td>1.0</td>\n",
       "      <td>0.0</td>\n",
       "      <td>0.0</td>\n",
       "      <td>1.0</td>\n",
       "      <td>0.0</td>\n",
       "      <td>0.0</td>\n",
       "      <td>0.0</td>\n",
       "      <td>1.0</td>\n",
       "      <td>0.0</td>\n",
       "      <td>0.0</td>\n",
       "      <td>0.0</td>\n",
       "    </tr>\n",
       "  </tbody>\n",
       "</table>\n",
       "</div>"
      ],
      "text/plain": [
       "                   Primary Type  Arrest  ...  SEASON_Summer  SEASON_Winter\n",
       "1260212                 ASSAULT   False  ...            0.0            0.0\n",
       "5048895  CRIMINAL LAW VIOLATION    True  ...            1.0            0.0\n",
       "2609753               NARCOTICS    True  ...            1.0            0.0\n",
       "415579   CRIMINAL LAW VIOLATION   False  ...            0.0            1.0\n",
       "2642932  CRIMINAL LAW VIOLATION   False  ...            0.0            0.0\n",
       "\n",
       "[5 rows x 26 columns]"
      ]
     },
     "execution_count": 49,
     "metadata": {},
     "output_type": "execute_result"
    }
   ],
   "source": [
    "# Convert categorical data to numeric with `pd.get_dummies`\n",
    "sample_dummies = pd.get_dummies(sample, columns = ['Location Description', 'HOUR', 'SEASON'],dtype=float)\n",
    "sample_dummies.head()"
   ]
  },
  {
   "cell_type": "code",
   "execution_count": 50,
   "metadata": {
    "id": "pWbUSV7lrArk"
   },
   "outputs": [],
   "source": [
    "# Split our preprocessed data into our features and target arrays\n",
    "y = sample_dummies['Primary Type']\n",
    "X = sample_dummies.drop('Primary Type', axis=1)"
   ]
  },
  {
   "cell_type": "code",
   "execution_count": 51,
   "metadata": {
    "colab": {
     "base_uri": "https://localhost:8080/"
    },
    "id": "cOyGdOP3irq1",
    "outputId": "8a2bdb31-69ef-4a3a-9efb-a9138cfb4c73"
   },
   "outputs": [
    {
     "data": {
      "text/plain": [
       "12"
      ]
     },
     "execution_count": 51,
     "metadata": {},
     "output_type": "execute_result"
    }
   ],
   "source": [
    "len(y.unique())"
   ]
  },
  {
   "cell_type": "code",
   "execution_count": 52,
   "metadata": {
    "colab": {
     "base_uri": "https://localhost:8080/",
     "height": 478
    },
    "id": "zj0ujDalMvTc",
    "outputId": "356cb0f2-880d-473e-9230-2e9d6ccceb64"
   },
   "outputs": [
    {
     "data": {
      "text/html": [
       "<div>\n",
       "<style scoped>\n",
       "    .dataframe tbody tr th:only-of-type {\n",
       "        vertical-align: middle;\n",
       "    }\n",
       "\n",
       "    .dataframe tbody tr th {\n",
       "        vertical-align: top;\n",
       "    }\n",
       "\n",
       "    .dataframe thead th {\n",
       "        text-align: right;\n",
       "    }\n",
       "</style>\n",
       "<table border=\"1\" class=\"dataframe\">\n",
       "  <thead>\n",
       "    <tr style=\"text-align: right;\">\n",
       "      <th></th>\n",
       "      <th>Arrest</th>\n",
       "      <th>Domestic</th>\n",
       "      <th>Latitude</th>\n",
       "      <th>Longitude</th>\n",
       "      <th>Location Description_AIRPORT</th>\n",
       "      <th>Location Description_CHURCH</th>\n",
       "      <th>Location Description_COMMERCIAL BUILDING</th>\n",
       "      <th>Location Description_CTA</th>\n",
       "      <th>Location Description_EDUCATIONAL BUILDING</th>\n",
       "      <th>Location Description_FEDERAL PROPERTY</th>\n",
       "      <th>Location Description_HOSPITAL</th>\n",
       "      <th>Location Description_HOTEL</th>\n",
       "      <th>Location Description_OTHER</th>\n",
       "      <th>Location Description_PUBLIC ENTERTAINMENT</th>\n",
       "      <th>Location Description_PUBLIC OPEN SPACE</th>\n",
       "      <th>Location Description_RESIDENCE</th>\n",
       "      <th>Location Description_VEHICLE</th>\n",
       "      <th>HOUR_Afternoon</th>\n",
       "      <th>HOUR_Evening</th>\n",
       "      <th>HOUR_Morning</th>\n",
       "      <th>HOUR_Night</th>\n",
       "      <th>SEASON_Autumn</th>\n",
       "      <th>SEASON_Spring</th>\n",
       "      <th>SEASON_Summer</th>\n",
       "      <th>SEASON_Winter</th>\n",
       "    </tr>\n",
       "  </thead>\n",
       "  <tbody>\n",
       "    <tr>\n",
       "      <th>1260212</th>\n",
       "      <td>False</td>\n",
       "      <td>True</td>\n",
       "      <td>41.773427</td>\n",
       "      <td>-87.621507</td>\n",
       "      <td>0.0</td>\n",
       "      <td>0.0</td>\n",
       "      <td>0.0</td>\n",
       "      <td>0.0</td>\n",
       "      <td>0.0</td>\n",
       "      <td>0.0</td>\n",
       "      <td>0.0</td>\n",
       "      <td>0.0</td>\n",
       "      <td>0.0</td>\n",
       "      <td>0.0</td>\n",
       "      <td>0.0</td>\n",
       "      <td>1.0</td>\n",
       "      <td>0.0</td>\n",
       "      <td>0.0</td>\n",
       "      <td>0.0</td>\n",
       "      <td>0.0</td>\n",
       "      <td>1.0</td>\n",
       "      <td>1.0</td>\n",
       "      <td>0.0</td>\n",
       "      <td>0.0</td>\n",
       "      <td>0.0</td>\n",
       "    </tr>\n",
       "    <tr>\n",
       "      <th>5048895</th>\n",
       "      <td>True</td>\n",
       "      <td>False</td>\n",
       "      <td>41.704335</td>\n",
       "      <td>-87.631113</td>\n",
       "      <td>0.0</td>\n",
       "      <td>0.0</td>\n",
       "      <td>0.0</td>\n",
       "      <td>0.0</td>\n",
       "      <td>0.0</td>\n",
       "      <td>0.0</td>\n",
       "      <td>0.0</td>\n",
       "      <td>0.0</td>\n",
       "      <td>0.0</td>\n",
       "      <td>0.0</td>\n",
       "      <td>1.0</td>\n",
       "      <td>0.0</td>\n",
       "      <td>0.0</td>\n",
       "      <td>0.0</td>\n",
       "      <td>0.0</td>\n",
       "      <td>1.0</td>\n",
       "      <td>0.0</td>\n",
       "      <td>0.0</td>\n",
       "      <td>0.0</td>\n",
       "      <td>1.0</td>\n",
       "      <td>0.0</td>\n",
       "    </tr>\n",
       "    <tr>\n",
       "      <th>2609753</th>\n",
       "      <td>True</td>\n",
       "      <td>False</td>\n",
       "      <td>41.916074</td>\n",
       "      <td>-87.713497</td>\n",
       "      <td>0.0</td>\n",
       "      <td>0.0</td>\n",
       "      <td>0.0</td>\n",
       "      <td>0.0</td>\n",
       "      <td>0.0</td>\n",
       "      <td>0.0</td>\n",
       "      <td>0.0</td>\n",
       "      <td>0.0</td>\n",
       "      <td>0.0</td>\n",
       "      <td>0.0</td>\n",
       "      <td>1.0</td>\n",
       "      <td>0.0</td>\n",
       "      <td>0.0</td>\n",
       "      <td>1.0</td>\n",
       "      <td>0.0</td>\n",
       "      <td>0.0</td>\n",
       "      <td>0.0</td>\n",
       "      <td>0.0</td>\n",
       "      <td>0.0</td>\n",
       "      <td>1.0</td>\n",
       "      <td>0.0</td>\n",
       "    </tr>\n",
       "    <tr>\n",
       "      <th>415579</th>\n",
       "      <td>False</td>\n",
       "      <td>False</td>\n",
       "      <td>41.922583</td>\n",
       "      <td>-87.638650</td>\n",
       "      <td>0.0</td>\n",
       "      <td>0.0</td>\n",
       "      <td>1.0</td>\n",
       "      <td>0.0</td>\n",
       "      <td>0.0</td>\n",
       "      <td>0.0</td>\n",
       "      <td>0.0</td>\n",
       "      <td>0.0</td>\n",
       "      <td>0.0</td>\n",
       "      <td>0.0</td>\n",
       "      <td>0.0</td>\n",
       "      <td>0.0</td>\n",
       "      <td>0.0</td>\n",
       "      <td>0.0</td>\n",
       "      <td>0.0</td>\n",
       "      <td>0.0</td>\n",
       "      <td>1.0</td>\n",
       "      <td>0.0</td>\n",
       "      <td>0.0</td>\n",
       "      <td>0.0</td>\n",
       "      <td>1.0</td>\n",
       "    </tr>\n",
       "    <tr>\n",
       "      <th>2642932</th>\n",
       "      <td>False</td>\n",
       "      <td>False</td>\n",
       "      <td>41.880587</td>\n",
       "      <td>-87.706110</td>\n",
       "      <td>0.0</td>\n",
       "      <td>0.0</td>\n",
       "      <td>0.0</td>\n",
       "      <td>0.0</td>\n",
       "      <td>0.0</td>\n",
       "      <td>0.0</td>\n",
       "      <td>0.0</td>\n",
       "      <td>0.0</td>\n",
       "      <td>0.0</td>\n",
       "      <td>0.0</td>\n",
       "      <td>1.0</td>\n",
       "      <td>0.0</td>\n",
       "      <td>0.0</td>\n",
       "      <td>1.0</td>\n",
       "      <td>0.0</td>\n",
       "      <td>0.0</td>\n",
       "      <td>0.0</td>\n",
       "      <td>1.0</td>\n",
       "      <td>0.0</td>\n",
       "      <td>0.0</td>\n",
       "      <td>0.0</td>\n",
       "    </tr>\n",
       "    <tr>\n",
       "      <th>...</th>\n",
       "      <td>...</td>\n",
       "      <td>...</td>\n",
       "      <td>...</td>\n",
       "      <td>...</td>\n",
       "      <td>...</td>\n",
       "      <td>...</td>\n",
       "      <td>...</td>\n",
       "      <td>...</td>\n",
       "      <td>...</td>\n",
       "      <td>...</td>\n",
       "      <td>...</td>\n",
       "      <td>...</td>\n",
       "      <td>...</td>\n",
       "      <td>...</td>\n",
       "      <td>...</td>\n",
       "      <td>...</td>\n",
       "      <td>...</td>\n",
       "      <td>...</td>\n",
       "      <td>...</td>\n",
       "      <td>...</td>\n",
       "      <td>...</td>\n",
       "      <td>...</td>\n",
       "      <td>...</td>\n",
       "      <td>...</td>\n",
       "      <td>...</td>\n",
       "    </tr>\n",
       "    <tr>\n",
       "      <th>1186239</th>\n",
       "      <td>True</td>\n",
       "      <td>False</td>\n",
       "      <td>42.007859</td>\n",
       "      <td>-87.668737</td>\n",
       "      <td>0.0</td>\n",
       "      <td>0.0</td>\n",
       "      <td>1.0</td>\n",
       "      <td>0.0</td>\n",
       "      <td>0.0</td>\n",
       "      <td>0.0</td>\n",
       "      <td>0.0</td>\n",
       "      <td>0.0</td>\n",
       "      <td>0.0</td>\n",
       "      <td>0.0</td>\n",
       "      <td>0.0</td>\n",
       "      <td>0.0</td>\n",
       "      <td>0.0</td>\n",
       "      <td>1.0</td>\n",
       "      <td>0.0</td>\n",
       "      <td>0.0</td>\n",
       "      <td>0.0</td>\n",
       "      <td>0.0</td>\n",
       "      <td>0.0</td>\n",
       "      <td>1.0</td>\n",
       "      <td>0.0</td>\n",
       "    </tr>\n",
       "    <tr>\n",
       "      <th>5000143</th>\n",
       "      <td>True</td>\n",
       "      <td>False</td>\n",
       "      <td>41.878799</td>\n",
       "      <td>-87.731549</td>\n",
       "      <td>0.0</td>\n",
       "      <td>0.0</td>\n",
       "      <td>0.0</td>\n",
       "      <td>0.0</td>\n",
       "      <td>0.0</td>\n",
       "      <td>0.0</td>\n",
       "      <td>0.0</td>\n",
       "      <td>0.0</td>\n",
       "      <td>0.0</td>\n",
       "      <td>0.0</td>\n",
       "      <td>0.0</td>\n",
       "      <td>1.0</td>\n",
       "      <td>0.0</td>\n",
       "      <td>0.0</td>\n",
       "      <td>0.0</td>\n",
       "      <td>1.0</td>\n",
       "      <td>0.0</td>\n",
       "      <td>0.0</td>\n",
       "      <td>1.0</td>\n",
       "      <td>0.0</td>\n",
       "      <td>0.0</td>\n",
       "    </tr>\n",
       "    <tr>\n",
       "      <th>4561431</th>\n",
       "      <td>False</td>\n",
       "      <td>False</td>\n",
       "      <td>41.882348</td>\n",
       "      <td>-87.756806</td>\n",
       "      <td>0.0</td>\n",
       "      <td>0.0</td>\n",
       "      <td>0.0</td>\n",
       "      <td>0.0</td>\n",
       "      <td>0.0</td>\n",
       "      <td>0.0</td>\n",
       "      <td>0.0</td>\n",
       "      <td>0.0</td>\n",
       "      <td>0.0</td>\n",
       "      <td>0.0</td>\n",
       "      <td>0.0</td>\n",
       "      <td>1.0</td>\n",
       "      <td>0.0</td>\n",
       "      <td>1.0</td>\n",
       "      <td>0.0</td>\n",
       "      <td>0.0</td>\n",
       "      <td>0.0</td>\n",
       "      <td>0.0</td>\n",
       "      <td>1.0</td>\n",
       "      <td>0.0</td>\n",
       "      <td>0.0</td>\n",
       "    </tr>\n",
       "    <tr>\n",
       "      <th>825320</th>\n",
       "      <td>True</td>\n",
       "      <td>True</td>\n",
       "      <td>41.953255</td>\n",
       "      <td>-87.760907</td>\n",
       "      <td>0.0</td>\n",
       "      <td>0.0</td>\n",
       "      <td>0.0</td>\n",
       "      <td>0.0</td>\n",
       "      <td>0.0</td>\n",
       "      <td>0.0</td>\n",
       "      <td>0.0</td>\n",
       "      <td>0.0</td>\n",
       "      <td>0.0</td>\n",
       "      <td>0.0</td>\n",
       "      <td>0.0</td>\n",
       "      <td>1.0</td>\n",
       "      <td>0.0</td>\n",
       "      <td>0.0</td>\n",
       "      <td>1.0</td>\n",
       "      <td>0.0</td>\n",
       "      <td>0.0</td>\n",
       "      <td>0.0</td>\n",
       "      <td>0.0</td>\n",
       "      <td>1.0</td>\n",
       "      <td>0.0</td>\n",
       "    </tr>\n",
       "    <tr>\n",
       "      <th>2111612</th>\n",
       "      <td>True</td>\n",
       "      <td>False</td>\n",
       "      <td>41.768220</td>\n",
       "      <td>-87.655413</td>\n",
       "      <td>0.0</td>\n",
       "      <td>0.0</td>\n",
       "      <td>0.0</td>\n",
       "      <td>0.0</td>\n",
       "      <td>0.0</td>\n",
       "      <td>0.0</td>\n",
       "      <td>0.0</td>\n",
       "      <td>0.0</td>\n",
       "      <td>0.0</td>\n",
       "      <td>0.0</td>\n",
       "      <td>1.0</td>\n",
       "      <td>0.0</td>\n",
       "      <td>0.0</td>\n",
       "      <td>0.0</td>\n",
       "      <td>1.0</td>\n",
       "      <td>0.0</td>\n",
       "      <td>0.0</td>\n",
       "      <td>0.0</td>\n",
       "      <td>0.0</td>\n",
       "      <td>1.0</td>\n",
       "      <td>0.0</td>\n",
       "    </tr>\n",
       "  </tbody>\n",
       "</table>\n",
       "<p>334596 rows × 25 columns</p>\n",
       "</div>"
      ],
      "text/plain": [
       "         Arrest  Domestic  ...  SEASON_Summer  SEASON_Winter\n",
       "1260212   False      True  ...            0.0            0.0\n",
       "5048895    True     False  ...            1.0            0.0\n",
       "2609753    True     False  ...            1.0            0.0\n",
       "415579    False     False  ...            0.0            1.0\n",
       "2642932   False     False  ...            0.0            0.0\n",
       "...         ...       ...  ...            ...            ...\n",
       "1186239    True     False  ...            1.0            0.0\n",
       "5000143    True     False  ...            0.0            0.0\n",
       "4561431   False     False  ...            0.0            0.0\n",
       "825320     True      True  ...            1.0            0.0\n",
       "2111612    True     False  ...            1.0            0.0\n",
       "\n",
       "[334596 rows x 25 columns]"
      ]
     },
     "execution_count": 52,
     "metadata": {},
     "output_type": "execute_result"
    }
   ],
   "source": [
    "X"
   ]
  },
  {
   "cell_type": "code",
   "execution_count": 53,
   "metadata": {
    "colab": {
     "base_uri": "https://localhost:8080/"
    },
    "id": "mRBr34e4M6Yu",
    "outputId": "4d7faf99-e97e-4929-ab6d-4058144227c7"
   },
   "outputs": [
    {
     "data": {
      "text/plain": [
       "12"
      ]
     },
     "execution_count": 53,
     "metadata": {},
     "output_type": "execute_result"
    }
   ],
   "source": [
    "len(y.unique())"
   ]
  },
  {
   "cell_type": "code",
   "execution_count": 54,
   "metadata": {
    "colab": {
     "base_uri": "https://localhost:8080/"
    },
    "id": "CKKmyhlPBHUQ",
    "outputId": "669fa057-3819-4c38-d1c5-cef9bcf624ba"
   },
   "outputs": [
    {
     "data": {
      "text/plain": [
       "array([ 1,  2,  7, ..., 10,  9,  2])"
      ]
     },
     "execution_count": 54,
     "metadata": {},
     "output_type": "execute_result"
    }
   ],
   "source": [
    "from sklearn import preprocessing\n",
    "le = preprocessing.LabelEncoder()\n",
    "le.fit(y)\n",
    "list(le.classes_)\n",
    "y_label = le.transform(y)\n",
    "y_label"
   ]
  },
  {
   "cell_type": "code",
   "execution_count": 55,
   "metadata": {
    "colab": {
     "base_uri": "https://localhost:8080/"
    },
    "id": "iP8r51d_BHUR",
    "outputId": "95a7d7d6-14e1-49d6-adb8-315ebd9b1095"
   },
   "outputs": [
    {
     "data": {
      "text/plain": [
       "334596"
      ]
     },
     "execution_count": 55,
     "metadata": {},
     "output_type": "execute_result"
    }
   ],
   "source": [
    "len(y_label)"
   ]
  },
  {
   "cell_type": "code",
   "execution_count": 56,
   "metadata": {
    "colab": {
     "base_uri": "https://localhost:8080/"
    },
    "id": "9HdCLAgLM-LH",
    "outputId": "1aab485d-b245-4533-f04e-bbcd87e5d3e4"
   },
   "outputs": [
    {
     "data": {
      "text/plain": [
       "(334596,)"
      ]
     },
     "execution_count": 56,
     "metadata": {},
     "output_type": "execute_result"
    }
   ],
   "source": [
    "y_label.shape"
   ]
  },
  {
   "cell_type": "code",
   "execution_count": 57,
   "metadata": {
    "id": "vlGAByG_id94"
   },
   "outputs": [],
   "source": [
    "from tensorflow.keras.utils import to_categorical\n"
   ]
  },
  {
   "cell_type": "code",
   "execution_count": 58,
   "metadata": {
    "colab": {
     "base_uri": "https://localhost:8080/"
    },
    "id": "TLOBK1sLi_C2",
    "outputId": "205c4c94-d611-4f0f-edcc-0d029e4dc707"
   },
   "outputs": [
    {
     "data": {
      "text/plain": [
       "array([[0., 1., 0., ..., 0., 0., 0.],\n",
       "       [0., 0., 1., ..., 0., 0., 0.],\n",
       "       [0., 0., 0., ..., 0., 0., 0.],\n",
       "       ...,\n",
       "       [0., 0., 0., ..., 0., 1., 0.],\n",
       "       [0., 0., 0., ..., 1., 0., 0.],\n",
       "       [0., 0., 1., ..., 0., 0., 0.]], dtype=float32)"
      ]
     },
     "execution_count": 58,
     "metadata": {},
     "output_type": "execute_result"
    }
   ],
   "source": [
    "Y = to_categorical(y_label, 12)\n",
    "Y"
   ]
  },
  {
   "cell_type": "code",
   "execution_count": 59,
   "metadata": {
    "id": "RkMMw3knBHUS"
   },
   "outputs": [],
   "source": [
    "# Split the preprocessed data into a training and testing dataset\n",
    "X_train, X_test, y_train, y_test = train_test_split(X,Y,random_state= 42)"
   ]
  },
  {
   "cell_type": "code",
   "execution_count": 60,
   "metadata": {
    "id": "X76d2g6TBHUT"
   },
   "outputs": [],
   "source": [
    "# Standardizing dataset so columns that contain larger values do not unduly influence the outcome\n",
    "scaler = StandardScaler().fit(X)\n",
    "X_train_scaled = scaler.transform(X_train)\n",
    "X_test_scaled = scaler.transform(X_test)"
   ]
  },
  {
   "cell_type": "code",
   "execution_count": 61,
   "metadata": {
    "colab": {
     "base_uri": "https://localhost:8080/"
    },
    "id": "Yj0vLcP1MEyg",
    "outputId": "af842f65-cc26-42ed-c283-6bc1c5fd4e43"
   },
   "outputs": [
    {
     "data": {
      "text/plain": [
       "(250947, 25)"
      ]
     },
     "execution_count": 61,
     "metadata": {},
     "output_type": "execute_result"
    }
   ],
   "source": [
    "X_train_scaled.shape"
   ]
  },
  {
   "cell_type": "code",
   "execution_count": 62,
   "metadata": {
    "colab": {
     "base_uri": "https://localhost:8080/"
    },
    "id": "e9pSQe4hjT5X",
    "outputId": "97470e9c-31eb-461e-b0e8-9f9b7b4804f7"
   },
   "outputs": [
    {
     "data": {
      "text/plain": [
       "(250947, 12)"
      ]
     },
     "execution_count": 62,
     "metadata": {},
     "output_type": "execute_result"
    }
   ],
   "source": [
    "y_train.shape"
   ]
  },
  {
   "cell_type": "markdown",
   "metadata": {
    "id": "NZXo-gsIBHUT"
   },
   "source": [
    "# Neural Network\n"
   ]
  },
  {
   "cell_type": "code",
   "execution_count": 63,
   "metadata": {
    "colab": {
     "base_uri": "https://localhost:8080/"
    },
    "id": "5-fPYxPiBHUY",
    "outputId": "dd1b0e8d-f5b8-41aa-accd-c1e6bb94fa36"
   },
   "outputs": [
    {
     "name": "stdout",
     "output_type": "stream",
     "text": [
      "Model: \"sequential_1\"\n",
      "_________________________________________________________________\n",
      "Layer (type)                 Output Shape              Param #   \n",
      "=================================================================\n",
      "dense_4 (Dense)              (None, 100)               2600      \n",
      "_________________________________________________________________\n",
      "dense_5 (Dense)              (None, 50)                5050      \n",
      "_________________________________________________________________\n",
      "dense_6 (Dense)              (None, 30)                1530      \n",
      "_________________________________________________________________\n",
      "dense_7 (Dense)              (None, 12)                372       \n",
      "=================================================================\n",
      "Total params: 9,552\n",
      "Trainable params: 9,552\n",
      "Non-trainable params: 0\n",
      "_________________________________________________________________\n"
     ]
    }
   ],
   "source": [
    "# Define the model - deep neural net, i.e., the number of input features and hidden nodes for each layer.\n",
    "\n",
    "\n",
    "nn = tf.keras.models.Sequential()\n",
    "\n",
    "# # First hidden layer\n",
    "nn.add(tf.keras.layers.Dense(units=100, activation=\"relu\", input_dim=25))\n",
    "\n",
    "# # Second hidden layer\n",
    "nn.add(tf.keras.layers.Dense(units=50, activation=\"relu\"))\n",
    "\n",
    "# # Third hidden layer\n",
    "nn.add(tf.keras.layers.Dense(units=30, activation=\"relu\"))\n",
    "\n",
    "# # Output layer\n",
    "nn.add(tf.keras.layers.Dense(units=12, activation=\"softmax\"))\n",
    "\n",
    "# # Check the structure of the model\n",
    "nn.summary()"
   ]
  },
  {
   "cell_type": "code",
   "execution_count": 64,
   "metadata": {
    "id": "QWe3URoxMBh3"
   },
   "outputs": [],
   "source": [
    "# Compile the model\n",
    "nn.compile(loss=\"categorical_crossentropy\", optimizer=\"adam\", metrics=[\"accuracy\", tf.keras.metrics.Recall()])"
   ]
  },
  {
   "cell_type": "code",
   "execution_count": 65,
   "metadata": {
    "colab": {
     "base_uri": "https://localhost:8080/"
    },
    "id": "AWfERol7Mb7H",
    "outputId": "f4b8f447-b8ac-4f94-ab3c-67b4f628015e"
   },
   "outputs": [
    {
     "data": {
      "text/plain": [
       "(250947, 12)"
      ]
     },
     "execution_count": 65,
     "metadata": {},
     "output_type": "execute_result"
    }
   ],
   "source": [
    "y_train.shape"
   ]
  },
  {
   "cell_type": "code",
   "execution_count": 66,
   "metadata": {
    "colab": {
     "base_uri": "https://localhost:8080/"
    },
    "id": "vYklXL3XMQGt",
    "outputId": "96d3c3d0-9d5c-4890-82fc-54e4f6c4e0e8"
   },
   "outputs": [
    {
     "name": "stdout",
     "output_type": "stream",
     "text": [
      "Epoch 1/100\n",
      "6666/6666 [==============================] - 16s 2ms/step - loss: 1.2461 - accuracy: 0.5294 - recall_1: 0.3544 - val_loss: 1.2351 - val_accuracy: 0.5331 - val_recall_1: 0.3008\n",
      "Epoch 2/100\n",
      "6666/6666 [==============================] - 16s 2ms/step - loss: 1.2271 - accuracy: 0.5332 - recall_1: 0.3628 - val_loss: 1.2286 - val_accuracy: 0.5345 - val_recall_1: 0.4175\n",
      "Epoch 3/100\n",
      "6666/6666 [==============================] - 15s 2ms/step - loss: 1.2215 - accuracy: 0.5339 - recall_1: 0.3644 - val_loss: 1.2229 - val_accuracy: 0.5335 - val_recall_1: 0.4070\n",
      "Epoch 4/100\n",
      "6666/6666 [==============================] - 16s 2ms/step - loss: 1.2173 - accuracy: 0.5353 - recall_1: 0.3634 - val_loss: 1.2194 - val_accuracy: 0.5342 - val_recall_1: 0.3641\n",
      "Epoch 5/100\n",
      "6666/6666 [==============================] - 15s 2ms/step - loss: 1.2145 - accuracy: 0.5350 - recall_1: 0.3627 - val_loss: 1.2161 - val_accuracy: 0.5345 - val_recall_1: 0.3574\n",
      "Epoch 6/100\n",
      "6666/6666 [==============================] - 16s 2ms/step - loss: 1.2125 - accuracy: 0.5355 - recall_1: 0.3652 - val_loss: 1.2157 - val_accuracy: 0.5345 - val_recall_1: 0.3508\n",
      "Epoch 7/100\n",
      "6666/6666 [==============================] - 16s 2ms/step - loss: 1.2113 - accuracy: 0.5364 - recall_1: 0.3674 - val_loss: 1.2159 - val_accuracy: 0.5348 - val_recall_1: 0.3995\n",
      "Epoch 8/100\n",
      "6666/6666 [==============================] - 16s 2ms/step - loss: 1.2103 - accuracy: 0.5369 - recall_1: 0.3663 - val_loss: 1.2142 - val_accuracy: 0.5343 - val_recall_1: 0.3681\n",
      "Epoch 9/100\n",
      "6666/6666 [==============================] - 16s 2ms/step - loss: 1.2095 - accuracy: 0.5363 - recall_1: 0.3659 - val_loss: 1.2162 - val_accuracy: 0.5349 - val_recall_1: 0.3140\n",
      "Epoch 10/100\n",
      "6666/6666 [==============================] - 17s 3ms/step - loss: 1.2082 - accuracy: 0.5365 - recall_1: 0.3677 - val_loss: 1.2141 - val_accuracy: 0.5348 - val_recall_1: 0.3831\n",
      "Epoch 11/100\n",
      "6666/6666 [==============================] - 17s 3ms/step - loss: 1.2071 - accuracy: 0.5369 - recall_1: 0.3689 - val_loss: 1.2150 - val_accuracy: 0.5350 - val_recall_1: 0.3604\n",
      "Epoch 12/100\n",
      "6666/6666 [==============================] - 16s 2ms/step - loss: 1.2068 - accuracy: 0.5377 - recall_1: 0.3666 - val_loss: 1.2160 - val_accuracy: 0.5335 - val_recall_1: 0.3237\n",
      "Epoch 13/100\n",
      "6666/6666 [==============================] - 16s 2ms/step - loss: 1.2058 - accuracy: 0.5372 - recall_1: 0.3672 - val_loss: 1.2140 - val_accuracy: 0.5350 - val_recall_1: 0.3989\n",
      "Epoch 14/100\n",
      "6666/6666 [==============================] - 16s 2ms/step - loss: 1.2051 - accuracy: 0.5377 - recall_1: 0.3690 - val_loss: 1.2154 - val_accuracy: 0.5347 - val_recall_1: 0.3785\n",
      "Epoch 15/100\n",
      "6666/6666 [==============================] - 16s 2ms/step - loss: 1.2045 - accuracy: 0.5371 - recall_1: 0.3690 - val_loss: 1.2173 - val_accuracy: 0.5337 - val_recall_1: 0.3031\n",
      "Epoch 16/100\n",
      "6666/6666 [==============================] - 16s 2ms/step - loss: 1.2036 - accuracy: 0.5375 - recall_1: 0.3687 - val_loss: 1.2158 - val_accuracy: 0.5342 - val_recall_1: 0.3880\n",
      "Epoch 17/100\n",
      "6666/6666 [==============================] - 16s 2ms/step - loss: 1.2032 - accuracy: 0.5379 - recall_1: 0.3696 - val_loss: 1.2127 - val_accuracy: 0.5360 - val_recall_1: 0.3678\n",
      "Epoch 18/100\n",
      "6666/6666 [==============================] - 16s 2ms/step - loss: 1.2027 - accuracy: 0.5378 - recall_1: 0.3688 - val_loss: 1.2147 - val_accuracy: 0.5359 - val_recall_1: 0.3888\n",
      "Epoch 19/100\n",
      "6666/6666 [==============================] - 16s 2ms/step - loss: 1.2020 - accuracy: 0.5379 - recall_1: 0.3688 - val_loss: 1.2154 - val_accuracy: 0.5363 - val_recall_1: 0.4038\n",
      "Epoch 20/100\n",
      "6666/6666 [==============================] - 16s 2ms/step - loss: 1.2013 - accuracy: 0.5382 - recall_1: 0.3701 - val_loss: 1.2144 - val_accuracy: 0.5356 - val_recall_1: 0.3762\n",
      "Epoch 21/100\n",
      "6666/6666 [==============================] - 16s 2ms/step - loss: 1.2008 - accuracy: 0.5388 - recall_1: 0.3717 - val_loss: 1.2140 - val_accuracy: 0.5351 - val_recall_1: 0.3337\n",
      "Epoch 22/100\n",
      "6666/6666 [==============================] - 16s 2ms/step - loss: 1.2005 - accuracy: 0.5386 - recall_1: 0.3693 - val_loss: 1.2156 - val_accuracy: 0.5351 - val_recall_1: 0.4040\n",
      "Epoch 23/100\n",
      "6666/6666 [==============================] - 16s 2ms/step - loss: 1.1999 - accuracy: 0.5389 - recall_1: 0.3694 - val_loss: 1.2149 - val_accuracy: 0.5340 - val_recall_1: 0.3547\n",
      "Epoch 24/100\n",
      "6666/6666 [==============================] - 16s 2ms/step - loss: 1.1996 - accuracy: 0.5390 - recall_1: 0.3693 - val_loss: 1.2157 - val_accuracy: 0.5361 - val_recall_1: 0.3675\n",
      "Epoch 25/100\n",
      "6666/6666 [==============================] - 16s 2ms/step - loss: 1.1992 - accuracy: 0.5394 - recall_1: 0.3697 - val_loss: 1.2155 - val_accuracy: 0.5343 - val_recall_1: 0.3660\n",
      "Epoch 26/100\n",
      "6666/6666 [==============================] - 16s 2ms/step - loss: 1.1987 - accuracy: 0.5386 - recall_1: 0.3684 - val_loss: 1.2131 - val_accuracy: 0.5351 - val_recall_1: 0.3803\n",
      "Epoch 27/100\n",
      "6666/6666 [==============================] - 16s 2ms/step - loss: 1.1985 - accuracy: 0.5386 - recall_1: 0.3697 - val_loss: 1.2154 - val_accuracy: 0.5354 - val_recall_1: 0.3506\n",
      "Epoch 28/100\n",
      "6666/6666 [==============================] - 17s 3ms/step - loss: 1.1982 - accuracy: 0.5389 - recall_1: 0.3689 - val_loss: 1.2153 - val_accuracy: 0.5360 - val_recall_1: 0.3690\n",
      "Epoch 29/100\n",
      "6666/6666 [==============================] - 17s 3ms/step - loss: 1.1976 - accuracy: 0.5398 - recall_1: 0.3701 - val_loss: 1.2153 - val_accuracy: 0.5350 - val_recall_1: 0.3807\n",
      "Epoch 30/100\n",
      "6666/6666 [==============================] - 16s 2ms/step - loss: 1.1976 - accuracy: 0.5395 - recall_1: 0.3708 - val_loss: 1.2174 - val_accuracy: 0.5347 - val_recall_1: 0.3613\n",
      "Epoch 31/100\n",
      "6666/6666 [==============================] - 16s 2ms/step - loss: 1.1969 - accuracy: 0.5395 - recall_1: 0.3708 - val_loss: 1.2163 - val_accuracy: 0.5353 - val_recall_1: 0.3619\n",
      "Epoch 32/100\n",
      "6666/6666 [==============================] - 16s 2ms/step - loss: 1.1968 - accuracy: 0.5394 - recall_1: 0.3704 - val_loss: 1.2163 - val_accuracy: 0.5343 - val_recall_1: 0.3416\n",
      "Epoch 33/100\n",
      "6666/6666 [==============================] - 16s 2ms/step - loss: 1.1966 - accuracy: 0.5395 - recall_1: 0.3692 - val_loss: 1.2150 - val_accuracy: 0.5348 - val_recall_1: 0.3758\n",
      "Epoch 34/100\n",
      "6666/6666 [==============================] - 16s 2ms/step - loss: 1.1960 - accuracy: 0.5393 - recall_1: 0.3715 - val_loss: 1.2149 - val_accuracy: 0.5365 - val_recall_1: 0.3450\n",
      "Epoch 35/100\n",
      "6666/6666 [==============================] - 16s 2ms/step - loss: 1.1962 - accuracy: 0.5392 - recall_1: 0.3691 - val_loss: 1.2179 - val_accuracy: 0.5335 - val_recall_1: 0.3495\n",
      "Epoch 36/100\n",
      "6666/6666 [==============================] - 16s 2ms/step - loss: 1.1960 - accuracy: 0.5399 - recall_1: 0.3708 - val_loss: 1.2159 - val_accuracy: 0.5358 - val_recall_1: 0.3679\n",
      "Epoch 37/100\n",
      "6666/6666 [==============================] - 16s 2ms/step - loss: 1.1956 - accuracy: 0.5397 - recall_1: 0.3707 - val_loss: 1.2152 - val_accuracy: 0.5362 - val_recall_1: 0.3471\n",
      "Epoch 38/100\n",
      "6666/6666 [==============================] - 16s 2ms/step - loss: 1.1957 - accuracy: 0.5395 - recall_1: 0.3715 - val_loss: 1.2159 - val_accuracy: 0.5338 - val_recall_1: 0.3488\n",
      "Epoch 39/100\n",
      "6666/6666 [==============================] - 15s 2ms/step - loss: 1.1952 - accuracy: 0.5397 - recall_1: 0.3712 - val_loss: 1.2197 - val_accuracy: 0.5350 - val_recall_1: 0.3864\n",
      "Epoch 40/100\n",
      "6666/6666 [==============================] - 16s 2ms/step - loss: 1.1949 - accuracy: 0.5399 - recall_1: 0.3713 - val_loss: 1.2176 - val_accuracy: 0.5348 - val_recall_1: 0.3808\n",
      "Epoch 41/100\n",
      "6666/6666 [==============================] - 16s 2ms/step - loss: 1.1948 - accuracy: 0.5398 - recall_1: 0.3719 - val_loss: 1.2144 - val_accuracy: 0.5366 - val_recall_1: 0.3847\n",
      "Epoch 42/100\n",
      "6666/6666 [==============================] - 16s 2ms/step - loss: 1.1944 - accuracy: 0.5401 - recall_1: 0.3712 - val_loss: 1.2165 - val_accuracy: 0.5350 - val_recall_1: 0.3579\n",
      "Epoch 43/100\n",
      "6666/6666 [==============================] - 15s 2ms/step - loss: 1.1943 - accuracy: 0.5399 - recall_1: 0.3724 - val_loss: 1.2166 - val_accuracy: 0.5348 - val_recall_1: 0.3629\n",
      "Epoch 44/100\n",
      "6666/6666 [==============================] - 16s 2ms/step - loss: 1.1937 - accuracy: 0.5398 - recall_1: 0.3700 - val_loss: 1.2183 - val_accuracy: 0.5345 - val_recall_1: 0.3770\n",
      "Epoch 45/100\n",
      "6666/6666 [==============================] - 16s 2ms/step - loss: 1.1939 - accuracy: 0.5399 - recall_1: 0.3714 - val_loss: 1.2150 - val_accuracy: 0.5352 - val_recall_1: 0.3726\n",
      "Epoch 46/100\n",
      "6666/6666 [==============================] - 16s 2ms/step - loss: 1.1933 - accuracy: 0.5402 - recall_1: 0.3725 - val_loss: 1.2175 - val_accuracy: 0.5349 - val_recall_1: 0.3533\n",
      "Epoch 47/100\n",
      "6666/6666 [==============================] - 16s 2ms/step - loss: 1.1935 - accuracy: 0.5402 - recall_1: 0.3720 - val_loss: 1.2207 - val_accuracy: 0.5342 - val_recall_1: 0.3545\n",
      "Epoch 48/100\n",
      "6666/6666 [==============================] - 16s 2ms/step - loss: 1.1934 - accuracy: 0.5402 - recall_1: 0.3725 - val_loss: 1.2187 - val_accuracy: 0.5357 - val_recall_1: 0.3508\n",
      "Epoch 49/100\n",
      "6666/6666 [==============================] - 16s 2ms/step - loss: 1.1927 - accuracy: 0.5399 - recall_1: 0.3728 - val_loss: 1.2182 - val_accuracy: 0.5350 - val_recall_1: 0.3856\n",
      "Epoch 50/100\n",
      "6666/6666 [==============================] - 16s 2ms/step - loss: 1.1925 - accuracy: 0.5402 - recall_1: 0.3721 - val_loss: 1.2223 - val_accuracy: 0.5352 - val_recall_1: 0.3887\n",
      "Epoch 51/100\n",
      "6666/6666 [==============================] - 16s 2ms/step - loss: 1.1936 - accuracy: 0.5403 - recall_1: 0.3721 - val_loss: 1.2199 - val_accuracy: 0.5351 - val_recall_1: 0.3757\n",
      "Epoch 52/100\n",
      "6666/6666 [==============================] - 16s 2ms/step - loss: 1.1926 - accuracy: 0.5400 - recall_1: 0.3724 - val_loss: 1.2155 - val_accuracy: 0.5347 - val_recall_1: 0.3804\n",
      "Epoch 53/100\n",
      "6666/6666 [==============================] - 16s 2ms/step - loss: 1.1924 - accuracy: 0.5403 - recall_1: 0.3733 - val_loss: 1.2182 - val_accuracy: 0.5347 - val_recall_1: 0.3797\n",
      "Epoch 54/100\n",
      "6666/6666 [==============================] - 16s 2ms/step - loss: 1.1930 - accuracy: 0.5405 - recall_1: 0.3718 - val_loss: 1.2179 - val_accuracy: 0.5348 - val_recall_1: 0.3582\n",
      "Epoch 55/100\n",
      "6666/6666 [==============================] - 16s 2ms/step - loss: 1.1923 - accuracy: 0.5400 - recall_1: 0.3709 - val_loss: 1.2205 - val_accuracy: 0.5343 - val_recall_1: 0.3576\n",
      "Epoch 56/100\n",
      "6666/6666 [==============================] - 16s 2ms/step - loss: 1.1917 - accuracy: 0.5405 - recall_1: 0.3732 - val_loss: 1.2199 - val_accuracy: 0.5345 - val_recall_1: 0.3591\n",
      "Epoch 57/100\n",
      "6666/6666 [==============================] - 16s 2ms/step - loss: 1.1917 - accuracy: 0.5409 - recall_1: 0.3717 - val_loss: 1.2228 - val_accuracy: 0.5328 - val_recall_1: 0.3330\n",
      "Epoch 58/100\n",
      "6666/6666 [==============================] - 16s 2ms/step - loss: 1.1922 - accuracy: 0.5407 - recall_1: 0.3724 - val_loss: 1.2232 - val_accuracy: 0.5329 - val_recall_1: 0.3384\n",
      "Epoch 59/100\n",
      "6666/6666 [==============================] - 16s 2ms/step - loss: 1.1914 - accuracy: 0.5406 - recall_1: 0.3727 - val_loss: 1.2231 - val_accuracy: 0.5334 - val_recall_1: 0.3668\n",
      "Epoch 60/100\n",
      "6666/6666 [==============================] - 16s 2ms/step - loss: 1.1914 - accuracy: 0.5405 - recall_1: 0.3742 - val_loss: 1.2240 - val_accuracy: 0.5351 - val_recall_1: 0.3576\n",
      "Epoch 61/100\n",
      "6666/6666 [==============================] - 16s 2ms/step - loss: 1.1910 - accuracy: 0.5407 - recall_1: 0.3734 - val_loss: 1.2235 - val_accuracy: 0.5343 - val_recall_1: 0.3596\n",
      "Epoch 62/100\n",
      "6666/6666 [==============================] - 17s 3ms/step - loss: 1.1913 - accuracy: 0.5409 - recall_1: 0.3755 - val_loss: 1.2237 - val_accuracy: 0.5365 - val_recall_1: 0.3890\n",
      "Epoch 63/100\n",
      "6666/6666 [==============================] - 16s 2ms/step - loss: 1.1910 - accuracy: 0.5409 - recall_1: 0.3739 - val_loss: 1.2208 - val_accuracy: 0.5344 - val_recall_1: 0.3668\n",
      "Epoch 64/100\n",
      "6666/6666 [==============================] - 16s 2ms/step - loss: 1.1908 - accuracy: 0.5410 - recall_1: 0.3739 - val_loss: 1.2218 - val_accuracy: 0.5354 - val_recall_1: 0.3709\n",
      "Epoch 65/100\n",
      "6666/6666 [==============================] - 16s 2ms/step - loss: 1.1900 - accuracy: 0.5413 - recall_1: 0.3730 - val_loss: 1.2242 - val_accuracy: 0.5342 - val_recall_1: 0.3567\n",
      "Epoch 66/100\n",
      "6666/6666 [==============================] - 16s 2ms/step - loss: 1.1905 - accuracy: 0.5412 - recall_1: 0.3729 - val_loss: 1.2219 - val_accuracy: 0.5354 - val_recall_1: 0.3875\n",
      "Epoch 67/100\n",
      "6666/6666 [==============================] - 16s 2ms/step - loss: 1.1904 - accuracy: 0.5411 - recall_1: 0.3714 - val_loss: 1.2231 - val_accuracy: 0.5349 - val_recall_1: 0.3708\n",
      "Epoch 68/100\n",
      "6666/6666 [==============================] - 16s 2ms/step - loss: 1.1904 - accuracy: 0.5414 - recall_1: 0.3729 - val_loss: 1.2246 - val_accuracy: 0.5357 - val_recall_1: 0.3859\n",
      "Epoch 69/100\n",
      "6666/6666 [==============================] - 16s 2ms/step - loss: 1.1906 - accuracy: 0.5411 - recall_1: 0.3747 - val_loss: 1.2253 - val_accuracy: 0.5342 - val_recall_1: 0.3497\n",
      "Epoch 70/100\n",
      "6666/6666 [==============================] - 18s 3ms/step - loss: 1.1906 - accuracy: 0.5406 - recall_1: 0.3730 - val_loss: 1.2287 - val_accuracy: 0.5344 - val_recall_1: 0.4040\n",
      "Epoch 71/100\n",
      "6666/6666 [==============================] - 16s 2ms/step - loss: 1.1900 - accuracy: 0.5414 - recall_1: 0.3731 - val_loss: 1.2267 - val_accuracy: 0.5324 - val_recall_1: 0.3160\n",
      "Epoch 72/100\n",
      "6666/6666 [==============================] - 16s 2ms/step - loss: 1.1896 - accuracy: 0.5409 - recall_1: 0.3735 - val_loss: 1.2296 - val_accuracy: 0.5352 - val_recall_1: 0.3874\n",
      "Epoch 73/100\n",
      "6666/6666 [==============================] - 16s 2ms/step - loss: 1.1894 - accuracy: 0.5410 - recall_1: 0.3745 - val_loss: 1.2226 - val_accuracy: 0.5345 - val_recall_1: 0.3584\n",
      "Epoch 74/100\n",
      "6666/6666 [==============================] - 18s 3ms/step - loss: 1.1893 - accuracy: 0.5413 - recall_1: 0.3743 - val_loss: 1.2250 - val_accuracy: 0.5340 - val_recall_1: 0.3522\n",
      "Epoch 75/100\n",
      "6666/6666 [==============================] - 16s 2ms/step - loss: 1.1895 - accuracy: 0.5412 - recall_1: 0.3743 - val_loss: 1.2234 - val_accuracy: 0.5344 - val_recall_1: 0.3772\n",
      "Epoch 76/100\n",
      "6666/6666 [==============================] - 16s 2ms/step - loss: 1.1892 - accuracy: 0.5415 - recall_1: 0.3751 - val_loss: 1.2196 - val_accuracy: 0.5364 - val_recall_1: 0.3379\n",
      "Epoch 77/100\n",
      "6666/6666 [==============================] - 16s 2ms/step - loss: 1.1893 - accuracy: 0.5411 - recall_1: 0.3723 - val_loss: 1.2274 - val_accuracy: 0.5347 - val_recall_1: 0.3763\n",
      "Epoch 78/100\n",
      "6666/6666 [==============================] - 16s 2ms/step - loss: 1.1890 - accuracy: 0.5420 - recall_1: 0.3750 - val_loss: 1.2251 - val_accuracy: 0.5353 - val_recall_1: 0.3847\n",
      "Epoch 79/100\n",
      "6666/6666 [==============================] - 17s 2ms/step - loss: 1.1898 - accuracy: 0.5411 - recall_1: 0.3765 - val_loss: 1.2213 - val_accuracy: 0.5338 - val_recall_1: 0.3363\n",
      "Epoch 80/100\n",
      "6666/6666 [==============================] - 16s 2ms/step - loss: 1.1890 - accuracy: 0.5415 - recall_1: 0.3728 - val_loss: 1.2249 - val_accuracy: 0.5335 - val_recall_1: 0.3554\n",
      "Epoch 81/100\n",
      "6666/6666 [==============================] - 16s 2ms/step - loss: 1.1900 - accuracy: 0.5414 - recall_1: 0.3735 - val_loss: 1.2240 - val_accuracy: 0.5353 - val_recall_1: 0.4098\n",
      "Epoch 82/100\n",
      "6666/6666 [==============================] - 16s 2ms/step - loss: 1.1890 - accuracy: 0.5413 - recall_1: 0.3751 - val_loss: 1.2289 - val_accuracy: 0.5341 - val_recall_1: 0.3623\n",
      "Epoch 83/100\n",
      "6666/6666 [==============================] - 16s 2ms/step - loss: 1.1893 - accuracy: 0.5412 - recall_1: 0.3724 - val_loss: 1.2259 - val_accuracy: 0.5364 - val_recall_1: 0.3998\n",
      "Epoch 84/100\n",
      "6666/6666 [==============================] - 16s 2ms/step - loss: 1.1886 - accuracy: 0.5418 - recall_1: 0.3726 - val_loss: 1.2349 - val_accuracy: 0.5340 - val_recall_1: 0.3574\n",
      "Epoch 85/100\n",
      "6666/6666 [==============================] - 17s 3ms/step - loss: 1.1890 - accuracy: 0.5412 - recall_1: 0.3725 - val_loss: 1.2248 - val_accuracy: 0.5356 - val_recall_1: 0.3838\n",
      "Epoch 86/100\n",
      "6666/6666 [==============================] - 16s 2ms/step - loss: 1.1886 - accuracy: 0.5411 - recall_1: 0.3741 - val_loss: 1.2283 - val_accuracy: 0.5333 - val_recall_1: 0.3450\n",
      "Epoch 87/100\n",
      "6666/6666 [==============================] - 17s 3ms/step - loss: 1.1888 - accuracy: 0.5415 - recall_1: 0.3739 - val_loss: 1.2277 - val_accuracy: 0.5339 - val_recall_1: 0.3710\n",
      "Epoch 88/100\n",
      "6666/6666 [==============================] - 17s 2ms/step - loss: 1.1882 - accuracy: 0.5419 - recall_1: 0.3747 - val_loss: 1.2321 - val_accuracy: 0.5339 - val_recall_1: 0.3689\n",
      "Epoch 89/100\n",
      "6666/6666 [==============================] - 17s 2ms/step - loss: 1.1891 - accuracy: 0.5420 - recall_1: 0.3753 - val_loss: 1.2275 - val_accuracy: 0.5337 - val_recall_1: 0.3768\n",
      "Epoch 90/100\n",
      "6666/6666 [==============================] - 16s 2ms/step - loss: 1.1884 - accuracy: 0.5414 - recall_1: 0.3761 - val_loss: 1.2346 - val_accuracy: 0.5351 - val_recall_1: 0.3602\n",
      "Epoch 91/100\n",
      "6666/6666 [==============================] - 16s 2ms/step - loss: 1.1889 - accuracy: 0.5411 - recall_1: 0.3754 - val_loss: 1.2354 - val_accuracy: 0.5345 - val_recall_1: 0.3741\n",
      "Epoch 92/100\n",
      "6666/6666 [==============================] - 16s 2ms/step - loss: 1.1883 - accuracy: 0.5416 - recall_1: 0.3762 - val_loss: 1.2287 - val_accuracy: 0.5350 - val_recall_1: 0.3727\n",
      "Epoch 93/100\n",
      "6666/6666 [==============================] - 17s 3ms/step - loss: 1.1887 - accuracy: 0.5413 - recall_1: 0.3763 - val_loss: 1.2298 - val_accuracy: 0.5342 - val_recall_1: 0.3149\n",
      "Epoch 94/100\n",
      "6666/6666 [==============================] - 17s 3ms/step - loss: 1.1885 - accuracy: 0.5418 - recall_1: 0.3750 - val_loss: 1.2335 - val_accuracy: 0.5344 - val_recall_1: 0.3892\n",
      "Epoch 95/100\n",
      "6666/6666 [==============================] - 16s 2ms/step - loss: 1.1883 - accuracy: 0.5417 - recall_1: 0.3758 - val_loss: 1.2346 - val_accuracy: 0.5364 - val_recall_1: 0.3821\n",
      "Epoch 96/100\n",
      "6666/6666 [==============================] - 16s 2ms/step - loss: 1.1881 - accuracy: 0.5413 - recall_1: 0.3746 - val_loss: 1.2263 - val_accuracy: 0.5340 - val_recall_1: 0.3718\n",
      "Epoch 97/100\n",
      "6666/6666 [==============================] - 16s 2ms/step - loss: 1.1892 - accuracy: 0.5418 - recall_1: 0.3761 - val_loss: 1.2357 - val_accuracy: 0.5347 - val_recall_1: 0.3758\n",
      "Epoch 98/100\n",
      "6666/6666 [==============================] - 16s 2ms/step - loss: 1.1884 - accuracy: 0.5418 - recall_1: 0.3748 - val_loss: 1.2379 - val_accuracy: 0.5359 - val_recall_1: 0.3704\n",
      "Epoch 99/100\n",
      "6666/6666 [==============================] - 16s 2ms/step - loss: 1.1887 - accuracy: 0.5415 - recall_1: 0.3736 - val_loss: 1.2361 - val_accuracy: 0.5341 - val_recall_1: 0.3767\n",
      "Epoch 100/100\n",
      "6666/6666 [==============================] - 16s 2ms/step - loss: 1.1891 - accuracy: 0.5410 - recall_1: 0.3754 - val_loss: 1.2242 - val_accuracy: 0.5341 - val_recall_1: 0.3610\n"
     ]
    }
   ],
   "source": [
    "# Train the model\n",
    "fit_model = nn.fit(X_train_scaled, y_train, validation_split=0.15, epochs=100)"
   ]
  },
  {
   "cell_type": "code",
   "execution_count": 67,
   "metadata": {
    "colab": {
     "base_uri": "https://localhost:8080/"
    },
    "id": "ym4IVjomMUeC",
    "outputId": "8a450f8a-e193-4e7b-d923-837d7cf4df9d"
   },
   "outputs": [
    {
     "name": "stdout",
     "output_type": "stream",
     "text": [
      "2615/2615 - 3s - loss: 1.2242 - accuracy: 0.5329 - recall_1: 0.3581\n",
      "Loss: 1.224170207977295, Accuracy: 0.5328934192657471\n"
     ]
    }
   ],
   "source": [
    "# Evaluate the model using the training data \n",
    "model_loss, model_accuracy, model_Recall = nn.evaluate(X_test_scaled, y_test, verbose=2)\n",
    "print(f\"Loss: {model_loss}, Accuracy: {model_accuracy}\")"
   ]
  },
  {
   "cell_type": "code",
   "execution_count": 68,
   "metadata": {
    "colab": {
     "base_uri": "https://localhost:8080/",
     "height": 404
    },
    "id": "cZ0NItyVo9XI",
    "outputId": "11b78327-dd64-4e69-a427-ffda08cb703a"
   },
   "outputs": [
    {
     "data": {
      "image/png": "[encoded data removed]",
      "text/plain": [
       "<Figure size 576x396 with 1 Axes>"
      ]
     },
     "metadata": {},
     "output_type": "display_data"
    }
   ],
   "source": [
    "# Model Loss Graph\n",
    "plt.style.use('seaborn')\n",
    "plt.title('Loss \\n',fontsize=20)\n",
    "plt.plot(fit_model.history['loss'], 'orchid', label='Training Loss')\n",
    "plt.plot(fit_model.history['val_loss'],'royalblue', label='Validation Loss')\n",
    "plt.xlabel('Number of Epochs')\n",
    "plt.ylabel('Loss')\n",
    "plt.legend()\n",
    "plt.show()"
   ]
  }
 ],
 "metadata": {
  "colab": {
   "collapsed_sections": [],
   "include_colab_link": true,
   "name": "Chicago_Crime_LR-crimetype_nn.ipynb",
   "provenance": []
  },
  "kernelspec": {
   "display_name": "Python 3",
   "language": "python",
   "name": "python3"
  },
  "language_info": {
   "codemirror_mode": {
    "name": "ipython",
    "version": 3
   },
   "file_extension": ".py",
   "mimetype": "text/x-python",
   "name": "python",
   "nbconvert_exporter": "python",
   "pygments_lexer": "ipython3",
   "version": "3.8.5"
  }
 },
 "nbformat": 4,
 "nbformat_minor": 1
}
